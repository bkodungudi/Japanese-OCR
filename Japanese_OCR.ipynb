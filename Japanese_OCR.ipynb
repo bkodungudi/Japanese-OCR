{
 "cells": [
  {
   "cell_type": "markdown",
   "metadata": {},
   "source": [
    "# Optical Character Recognition of Japanese Characters\n",
    "\n"
   ]
  },
  {
   "cell_type": "markdown",
   "metadata": {},
   "source": [
    "Using various models and methods to accurately classify Hiragana, Katakana and Kanji from handwritten images."
   ]
  },
  {
   "cell_type": "markdown",
   "metadata": {},
   "source": [
    "### Imports"
   ]
  },
  {
   "cell_type": "code",
   "execution_count": 2,
   "metadata": {},
   "outputs": [],
   "source": [
    "import numpy as np\n",
    "import pandas as pd\n",
    "import os\n",
    "\n",
    "import random\n",
    "\n",
    "from sklearn import decomposition\n",
    "from sklearn import model_selection\n",
    "from sklearn import ensemble\n",
    "from sklearn import metrics\n",
    "from sklearn import utils\n",
    "from sklearn import neighbors\n",
    "from sklearn import svm\n",
    "\n",
    "from skimage.measure import block_reduce\n",
    "\n",
    "\n",
    "import matplotlib.pyplot as plt\n",
    "from matplotlib.font_manager import FontProperties\n",
    "from matplotlib import rcParams\n",
    "fp = FontProperties(fname='./font/YuGothM.ttc', size=14)\n",
    "rcParams['font.family'] = fp.get_name()\n",
    "\n",
    "import PIL \n",
    "import PIL.Image\n",
    "from collections import defaultdict\n",
    "\n",
    "import tensorflow as tf\n",
    "from tensorflow import keras\n",
    "\n",
    "from keras.models import Sequential\n",
    "from keras.layers import Activation, Dense, Conv2D, Conv1D, MaxPooling1D, MaxPooling2D\n",
    "from keras import metrics as kr_metrics\n",
    "from keras.preprocessing.image import ImageDataGenerator\n",
    " "
   ]
  },
  {
   "cell_type": "markdown",
   "metadata": {},
   "source": [
    "### Helper Functions"
   ]
  },
  {
   "cell_type": "code",
   "execution_count": 3,
   "metadata": {},
   "outputs": [],
   "source": [
    "def separate(big_img, ht = 63, wd = 64):\n",
    "\n",
    "    height = big_img.shape[0]\n",
    "    width = big_img.shape[1]\n",
    "    \n",
    "    img_array = []\n",
    "    num_down = int(height/ht)\n",
    "    num_across = int(width/wd)\n",
    "\n",
    "\n",
    "    for i in range(num_down):\n",
    "        for j in range(num_across):  \n",
    "            image = big_img[ht * i:ht + (ht * i)].T[(wd * j):wd + (wd * j)].T\n",
    "            img_array.append(image)\n",
    "                \n",
    "\n",
    "    img_array = np.array(img_array)\n",
    "    return img_array\n"
   ]
  },
  {
   "cell_type": "code",
   "execution_count": 4,
   "metadata": {},
   "outputs": [],
   "source": [
    "def load_pair(folder, file):\n",
    "    img_path = folder + file + '.png'\n",
    "    img = PIL.Image.open(img_path)\n",
    "    img = np.array(img)\n",
    "\n",
    "    img_array = separate(img)\n",
    "    \n",
    "    txt_path = folder + file + '.txt'\n",
    "    txt = open(txt_path, encoding='utf8').read()\n",
    "    txt = txt.replace('\\n', '')\n",
    "    return (img_array, txt)\n",
    "    "
   ]
  },
  {
   "cell_type": "code",
   "execution_count": 5,
   "metadata": {},
   "outputs": [],
   "source": [
    "def load_data(folder_arch, file_arch, length, image_dict):\n",
    "    folder = 'Data/' + folder_arch + '/'\n",
    "\n",
    "\n",
    "    for i in range(length):\n",
    "        if(i <= 9):\n",
    "            i = '0' + str(i)\n",
    "        else:\n",
    "            i = str(i)\n",
    "        file = file_arch + i\n",
    "        images, labels = load_pair(folder, file)\n",
    "\n",
    "        for j in range(len(labels)):\n",
    "            image_dict[labels[j]].append(images[j])\n",
    "    return image_dict\n"
   ]
  },
  {
   "cell_type": "code",
   "execution_count": 6,
   "metadata": {},
   "outputs": [],
   "source": [
    "def disp(images, labels, index):\n",
    "    plt.imshow(images[index])\n",
    "    plt.title(labels[index])\n",
    "    plt.show()"
   ]
  },
  {
   "cell_type": "code",
   "execution_count": 7,
   "metadata": {},
   "outputs": [],
   "source": [
    "def do_downsample(data_images, scale):\n",
    "  downsampled_images = []\n",
    "  downsampled_flat = []\n",
    "  for i in range(len(data_images)):\n",
    "    ds_image = block_reduce(data_images[i], block_size = scale)\n",
    "    downsampled_images.append(ds_image)\n",
    "    downsampled_flat.append(ds_image.reshape(ds_image.shape[0] * ds_image.shape[1]))\n",
    "  return np.array(downsampled_images),  np.array(downsampled_flat) "
   ]
  },
  {
   "cell_type": "code",
   "execution_count": 8,
   "metadata": {},
   "outputs": [],
   "source": [
    "def bad_classes(confm, classes):\n",
    "\n",
    "    confm = confm.T\n",
    "\n",
    "    worst_chars = (np.argsort(confm.diagonal()))[:3]\n",
    "    worst_accs = np.sort(confm.diagonal())[:3]\n",
    "    print(worst_accs)\n",
    "    print(classes[worst_chars])\n",
    "\n",
    "    char_1 = confm[worst_chars[0]]\n",
    "    char_2 = confm[worst_chars[1]]\n",
    "    char_3 = confm[worst_chars[2]]\n",
    "\n",
    "    print(worst_chars[0])\n",
    "    print(classes[worst_chars[0]])\n",
    "    print(classes[np.argsort(-char_1)][:5])\n",
    "\n",
    "    print()\n",
    "\n",
    "    print(worst_chars[1])\n",
    "    print(classes[worst_chars[1]])\n",
    "    print(classes[np.argsort(-char_2)][:5])\n",
    "\n",
    "    print()\n",
    "\n",
    "    print(worst_chars[2])\n",
    "    print(classes[worst_chars[2]])\n",
    "    print(classes[np.argsort(-char_3)][:5])\n"
   ]
  },
  {
   "cell_type": "markdown",
   "metadata": {},
   "source": [
    "### Load Data"
   ]
  },
  {
   "cell_type": "code",
   "execution_count": 9,
   "metadata": {},
   "outputs": [],
   "source": [
    "image_dict = defaultdict(list)\n",
    "for i in [1,2,3]:\n",
    "  image_dict = load_data('ETL8B', 'ETL8B2C' + str(i) +'_', 26, image_dict)\n",
    "for i in [1,2,3,4,5]:\n",
    "  image_dict = load_data('ETL9B','ETL9B_' + str(i) + '_', 61, image_dict)"
   ]
  },
  {
   "cell_type": "code",
   "execution_count": 10,
   "metadata": {},
   "outputs": [
    {
     "name": "stdout",
     "output_type": "stream",
     "text": [
      "0\n"
     ]
    }
   ],
   "source": [
    "print(len(image_dict[None]))"
   ]
  },
  {
   "cell_type": "code",
   "execution_count": 11,
   "metadata": {},
   "outputs": [],
   "source": [
    "\n",
    "#fresh_image_dict = defaultdict(list)\n",
    "#fresh_image_dict = load_data('ETL4', 'ETL4C_' ,4, fresh_image_dict)\n",
    "img_path = 'Data/ETL4/' + 'ETL4C_00' + '.png'\n",
    "img = PIL.Image.open(img_path)\n",
    "img = np.array(img)\n",
    "\n",
    "img_array = separate(img, ht = 76, wd = 72)\n",
    "\n",
    "cleaning_prototype = img_array[0]\n"
   ]
  },
  {
   "cell_type": "code",
   "execution_count": 12,
   "metadata": {},
   "outputs": [
    {
     "name": "stdout",
     "output_type": "stream",
     "text": [
      "[[48 64 48 ... 64 64 64]\n",
      " [48 48 64 ... 64 64 64]\n",
      " [64 64 64 ... 64 64 64]\n",
      " ...\n",
      " [64 64 64 ... 64 64 48]\n",
      " [64 64 64 ... 64 48 64]\n",
      " [64 64 64 ... 64 64 64]]\n"
     ]
    },
    {
     "data": {
      "image/png": "[encoded data removed]",
      "text/plain": [
       "<Figure size 432x288 with 1 Axes>"
      ]
     },
     "metadata": {
      "needs_background": "light"
     },
     "output_type": "display_data"
    },
    {
     "name": "stdout",
     "output_type": "stream",
     "text": [
      "48\n",
      "144\n",
      "[[False False False ... False False False]\n",
      " [False False False ... False False False]\n",
      " [False False False ... False False False]\n",
      " ...\n",
      " [False False False ... False False False]\n",
      " [False False False ... False False False]\n",
      " [False False False ... False False False]]\n"
     ]
    },
    {
     "data": {
      "text/plain": [
       "<function matplotlib.pyplot.show(close=None, block=None)>"
      ]
     },
     "execution_count": 12,
     "metadata": {},
     "output_type": "execute_result"
    },
    {
     "data": {
      "image/png": "[encoded data removed]",
      "text/plain": [
       "<Figure size 432x288 with 1 Axes>"
      ]
     },
     "metadata": {
      "needs_background": "light"
     },
     "output_type": "display_data"
    }
   ],
   "source": [
    "print(cleaning_prototype)\n",
    "plt.imshow(cleaning_prototype)\n",
    "plt.show()\n",
    "\n",
    "threshold = 76\n",
    "print(np.min(cleaning_prototype))\n",
    "print(np.max(cleaning_prototype))\n",
    "\n",
    "\n",
    "\n",
    "cleaned = cleaning_prototype > threshold\n",
    "print(cleaned)\n",
    "plt.imshow(cleaned)\n",
    "plt.show"
   ]
  },
  {
   "cell_type": "markdown",
   "metadata": {},
   "source": [
    "### Define data subsets"
   ]
  },
  {
   "cell_type": "code",
   "execution_count": 13,
   "metadata": {},
   "outputs": [],
   "source": [
    "hiragana = ['あ','い','う','え','お',\n",
    "'か','き','く','け','こ','が','ぎ','ぐ','げ','ご',\n",
    "'さ','し','す','せ','そ','ざ','じ','ず','ぜ','ぞ',\n",
    "'た','ち','つ','て','と','だ','ぢ','づ','で','ど',\n",
    "'な','に','ぬ','ね','の',\n",
    "'は','ひ','ふ','へ','ほ','ば','び','ぶ','べ','ぼ','ぱ','ぴ','ぷ','ぺ','ぽ',\n",
    "'ま','み','む','め','も',\n",
    "'や','ゆ','よ',\n",
    "'ら','り','る','れ','ろ',\n",
    "'わ','ゐ','ゑ','を','ん']\n"
   ]
  },
  {
   "cell_type": "code",
   "execution_count": 14,
   "metadata": {},
   "outputs": [],
   "source": [
    "basic_kanji =  ['一','二','三','四','五','六','七','八',\n",
    "                '九','十','百','千','万','日','大','年',\n",
    "                '中','会','人','本','月','長','国','出',\n",
    "                '上','生','子','分','東','行','同','今',\n",
    "                '高','金','時','手','見','市','力','米',\n",
    "                '自','前','円','合','立','内','事','社',\n",
    "                '者','地','京','間','田','体','学','下',\n",
    "                '目','後','新','明','方','部','女','心',\n",
    "                '民','対','主','正','代','言','小','思',\n",
    "                '山','実','入','回','場','野','開','全',\n",
    "                '定','家','北','問','話','文','動','度',\n",
    "                '県','水','安','氏','和','政','保','表',\n",
    "                '道','相','意','発','不','党','曜','宅']\n",
    "\n",
    "combined = hiragana + basic_kanji\n",
    "\n",
    "\n",
    "hiragana = np.array(hiragana)\n",
    "basic_kanji = np.array(basic_kanji)\n",
    "combined = np.array(combined)"
   ]
  },
  {
   "cell_type": "code",
   "execution_count": null,
   "metadata": {},
   "outputs": [],
   "source": []
  },
  {
   "cell_type": "code",
   "execution_count": 15,
   "metadata": {},
   "outputs": [],
   "source": [
    "def make_datasets(image_dict, characterset):\n",
    "    data_images = []\n",
    "    data_labels = []\n",
    "    data_flatten = []\n",
    "    data_onehot = []\n",
    "\n",
    "    for i in characterset:\n",
    "        for image in image_dict[i]:\n",
    "            data_flatten.append(image.reshape(63*64))\n",
    "            data_images.append(image)\n",
    "            data_labels.append(i)\n",
    "    data_labels = np.array(data_labels)\n",
    "    data_images = np.array(data_images)\n",
    "    data_flatten = np.array(data_flatten)\n",
    "\n",
    "    data_downsample, data_downsample_flat = do_downsample(data_images= data_images, scale=(2,2))\n",
    "\n",
    "    for i in range(len(data_labels)):\n",
    "        data_onehot.append(characterset == data_labels[i])\n",
    "        \n",
    "    data_onehot = np.array(data_onehot)\n",
    "\n",
    "\n",
    "    utils.shuffle(data_labels, data_images, data_flatten,data_downsample ,data_downsample_flat, data_onehot)\n",
    "\n",
    "    return data_labels, data_onehot, data_images, data_flatten, data_downsample, data_downsample_flat\n"
   ]
  },
  {
   "cell_type": "code",
   "execution_count": 16,
   "metadata": {},
   "outputs": [],
   "source": [
    "def generate_class_labels (labels):\n",
    "  class_labels = []\n",
    "  for i in labels:\n",
    "    if (np.any(i == hiragana)):\n",
    "      class_labels.append('H')\n",
    "    elif (np.any(i == basic_kanji)):\n",
    "      class_labels.append('K')\n",
    "  return class_labels "
   ]
  },
  {
   "cell_type": "code",
   "execution_count": 17,
   "metadata": {},
   "outputs": [],
   "source": [
    "hiragana_labels, hiragana_onehot, hiragana_images, hiragana_flatten, hiragana_downsample, hiragana_downsample_flat = make_datasets(image_dict, hiragana)\n",
    "kanji_labels, kanji_onehot, kanji_images, kanji_flatten, kanji_downsample, kanji_downsample_flat = make_datasets(image_dict, basic_kanji)\n",
    "combined_labels, combined_onehot, combined_images, combined_flatten, combined_downsample, combined_downsample_flat = make_datasets(image_dict, combined)\n",
    "\n",
    "classes_combined = generate_class_labels(combined_labels)\n"
   ]
  },
  {
   "cell_type": "markdown",
   "metadata": {},
   "source": [
    "### PCA"
   ]
  },
  {
   "cell_type": "code",
   "execution_count": 18,
   "metadata": {},
   "outputs": [],
   "source": [
    "def do_pca(data):\n",
    "    pca = decomposition.PCA(n_components=47)\n",
    "    pca.fit(data)\n",
    "    eigenchars = pca.components_ \n",
    "    data_tsf = pca.transform(data)\n",
    "\n",
    "    return eigenchars, data_tsf"
   ]
  },
  {
   "cell_type": "code",
   "execution_count": 19,
   "metadata": {},
   "outputs": [],
   "source": [
    "eigengana ,hiragana_tsf = do_pca(hiragana_flatten)\n",
    "ds_eigengana , ds_hiragana_tsf = do_pca(hiragana_downsample_flat)\n",
    "\n",
    "eigenkanji, kanji_tsf = do_pca(kanji_flatten)\n",
    "ds_eigenkanji, ds_kanji_tsf = do_pca(kanji_downsample_flat)\n",
    "\n",
    "eigencombined, combined_tsf = do_pca(combined_flatten)\n",
    "ds_eigencombined, ds_combined_tsf = do_pca(combined_downsample_flat)"
   ]
  },
  {
   "cell_type": "code",
   "execution_count": 20,
   "metadata": {},
   "outputs": [
    {
     "data": {
      "image/png": "[encoded data removed]",
      "text/plain": [
       "<Figure size 432x288 with 1 Axes>"
      ]
     },
     "metadata": {
      "needs_background": "light"
     },
     "output_type": "display_data"
    },
    {
     "data": {
      "image/png": "[encoded data removed]",
      "text/plain": [
       "<Figure size 432x288 with 1 Axes>"
      ]
     },
     "metadata": {
      "needs_background": "light"
     },
     "output_type": "display_data"
    }
   ],
   "source": [
    "for i in range(2):\n",
    "    plt.imshow(ds_eigenkanji[i].reshape(32,32))\n",
    "    plt.title('Kanji Eigengana ' + str(i))\n",
    "    plt.show()"
   ]
  },
  {
   "cell_type": "markdown",
   "metadata": {},
   "source": [
    "## Model Functions"
   ]
  },
  {
   "cell_type": "markdown",
   "metadata": {},
   "source": [
    "### Random Forest"
   ]
  },
  {
   "cell_type": "code",
   "execution_count": 21,
   "metadata": {},
   "outputs": [],
   "source": [
    "def do_random_forest(data, labels):\n",
    "    train_x, test_x , train_y, test_y= model_selection.train_test_split(data, labels)\n",
    "\n",
    "    rf = ensemble.RandomForestClassifier()\n",
    "    rf.fit(train_x, train_y)\n",
    "    rf_pred = rf.predict(test_x)\n",
    "\n",
    "    print('Random Forest Accuracy:')\n",
    "    print(metrics.accuracy_score(test_y, rf_pred))\n",
    "    \n",
    "    rf_confm = metrics.confusion_matrix(test_y, rf_pred)\n",
    "    plt.imshow(rf_confm)\n",
    "    plt.title('Random Forest Confusion Matrix')\n",
    "    plt.show()\n",
    "\n",
    "    return rf_confm"
   ]
  },
  {
   "cell_type": "markdown",
   "metadata": {},
   "source": [
    "### K Nearest Neighbors"
   ]
  },
  {
   "cell_type": "code",
   "execution_count": 22,
   "metadata": {},
   "outputs": [],
   "source": [
    "def do_knn(data, labels, k):\n",
    "    train_x, test_x , train_y, test_y= model_selection.train_test_split(data, labels)\n",
    "\n",
    "    knn_model = neighbors.KNeighborsClassifier(n_neighbors=k)\n",
    "    knn_model.fit(train_x, train_y) \n",
    "    knn_pred = knn_model.predict(test_x)\n",
    "    \n",
    "    print('KNN Accuracy:')\n",
    "    print(metrics.accuracy_score(test_y, knn_pred))\n",
    "\n",
    "    knn_conf = metrics.confusion_matrix(test_y, knn_pred)\n",
    "    plt.imshow(knn_conf)\n",
    "    plt.title('KNN Confusion Matrix')\n",
    "    plt.show()\n",
    "\n",
    "    return knn_conf"
   ]
  },
  {
   "cell_type": "markdown",
   "metadata": {},
   "source": [
    "### Support Vector Machines"
   ]
  },
  {
   "cell_type": "code",
   "execution_count": 23,
   "metadata": {},
   "outputs": [],
   "source": [
    "def do_svm(data, labels):\n",
    "    train_x, test_x , train_y, test_y= model_selection.train_test_split(data, labels)\n",
    "\n",
    "    svms = svm.SVC(C = 10000, kernel = 'rbf', gamma=0.001)\n",
    "    svms.fit(train_x, train_y) \n",
    "    svm_pred = svms.predict(test_x)\n",
    "\n",
    "    print('SVM Accuracy:')\n",
    "    print(metrics.accuracy_score(svm_pred, test_y))\n",
    "\n",
    "    svm_conf = np.array(metrics.confusion_matrix(svm_pred, hgana_test_y))\n",
    "    plt.imshow(svm_conf)\n",
    "    plt.title('SVM Confusion Matrix')\n",
    "    plt.show()\n",
    "    \n",
    "    return svm_conf"
   ]
  },
  {
   "cell_type": "markdown",
   "metadata": {},
   "source": [
    "### Neural Networks"
   ]
  },
  {
   "cell_type": "code",
   "execution_count": 24,
   "metadata": {},
   "outputs": [],
   "source": [
    "input_shape_2d = (32,32,1) \n",
    "input_shape_1d = (32*32,)\n",
    "output_shape_h = len(hiragana)\n",
    "output_shape_k = len(basic_kanji)\n",
    "output_shape_c = output_shape_k + output_shape_h"
   ]
  },
  {
   "cell_type": "code",
   "execution_count": 25,
   "metadata": {},
   "outputs": [],
   "source": [
    "def do_neural_net(data, labels, model, char_set, loss_fn = 'categorical_crossentropy', epochs = 15):\n",
    "    train_x, test_x , train_y, test_y= model_selection.train_test_split(data, labels)\n",
    "\n",
    "    model.compile(optimizer='adam', loss= loss_fn, metrics= ['accuracy' ])\n",
    "    model.fit(x = train_x, y = train_y, batch_size=100, epochs = epochs, validation_split= 0.1)\n",
    "\n",
    "\n",
    "    nn_pred = model.predict(test_x)\n",
    "    nn_labels = []\n",
    "    test_true = []\n",
    "    for i in range(len(nn_pred)):\n",
    "        nn_labels.append(char_set[np.argmax(nn_pred[i])])\n",
    "        test_true.append(char_set[np.argmax(test_y[i])])\n",
    "\n",
    "    print('Accuracy Score: ' + str(metrics.accuracy_score(test_true, nn_labels)))\n",
    "\n",
    "    nn_conf = metrics.confusion_matrix(test_true, nn_labels, labels=char_set)\n",
    "    plt.imshow(nn_conf)\n",
    "    plt.title('Neural Net Confusion Matrix')\n",
    "    plt.show()\n",
    "    return nn_conf, model\n",
    "        \n"
   ]
  },
  {
   "cell_type": "markdown",
   "metadata": {},
   "source": [
    "# Create NN Models"
   ]
  },
  {
   "cell_type": "code",
   "execution_count": 26,
   "metadata": {},
   "outputs": [],
   "source": [
    "hgana_model = Sequential([\n",
    "    Conv2D(filters = 128, kernel_size = (3,3), input_shape=input_shape_2d, activation = 'relu'),\n",
    "    MaxPooling2D(2,2),\n",
    "    Conv2D(128, (3,3), activation='relu'),\n",
    "    MaxPooling2D(2,2),\n",
    "    Conv2D(192, (3,3), activation='relu'),\n",
    "    keras.layers.Flatten(),\n",
    "    Dense(1024, activation='relu'),\n",
    "    Dense(256, activation='relu'),\n",
    "    Dense(units = output_shape_h , activation = 'softmax')\n",
    "])"
   ]
  },
  {
   "cell_type": "code",
   "execution_count": 27,
   "metadata": {},
   "outputs": [],
   "source": [
    "kanji_model = Sequential([\n",
    "    Conv2D(filters = 128, kernel_size = (3,3), input_shape=input_shape_2d, activation = 'relu'),\n",
    "    MaxPooling2D(2,2),\n",
    "    Conv2D(128, (3,3), activation='relu'),\n",
    "    MaxPooling2D(2,2),\n",
    "    Conv2D(192, (3,3), activation='relu'),\n",
    "    keras.layers.Flatten(),\n",
    "    Dense(1024, activation='relu'),\n",
    "    Dense(512, activation='relu'),\n",
    "    Dense(units = output_shape_k , activation = 'softmax')\n",
    "])"
   ]
  },
  {
   "cell_type": "code",
   "execution_count": 28,
   "metadata": {},
   "outputs": [],
   "source": [
    "combined_model = Sequential([\n",
    "    Conv2D(filters = 128, kernel_size = (3,3), input_shape=input_shape_2d, activation = 'relu'),\n",
    "    MaxPooling2D(2,2),\n",
    "    Conv2D(128, (3,3), activation='relu'),\n",
    "    MaxPooling2D(2,2),\n",
    "    Conv2D(192, (3,3), activation='relu'),\n",
    "    keras.layers.Flatten(),\n",
    "    Dense(1024, activation='relu'),\n",
    "    Dense(512, activation='relu'),\n",
    "    Dense(units = output_shape_k , activation = 'softmax')\n",
    "])"
   ]
  },
  {
   "cell_type": "code",
   "execution_count": 29,
   "metadata": {},
   "outputs": [],
   "source": [
    "\n",
    "#nn_hgana_confm = do_neural_net(kanji_downsample, kanji_onehot, kanji_model, basic_kanji)\n",
    "\n",
    "#bad_classes(nn_hgana_confm, basic_kanji)"
   ]
  },
  {
   "cell_type": "code",
   "execution_count": 30,
   "metadata": {},
   "outputs": [],
   "source": [
    "#kanji_best_model = do_neural_net(kanji_downsample, kanji_onehot, kanji_model, basic_kanji)"
   ]
  },
  {
   "cell_type": "code",
   "execution_count": 31,
   "metadata": {},
   "outputs": [],
   "source": [
    "#combo_best_model = do_neural_net(combined_downsample, combined_onehot, kanji_model, combined)\n"
   ]
  },
  {
   "cell_type": "markdown",
   "metadata": {},
   "source": []
  },
  {
   "cell_type": "code",
   "execution_count": 32,
   "metadata": {},
   "outputs": [],
   "source": [
    "#combo_best_model.summary"
   ]
  },
  {
   "cell_type": "code",
   "execution_count": null,
   "metadata": {},
   "outputs": [],
   "source": []
  },
  {
   "cell_type": "code",
   "execution_count": 33,
   "metadata": {},
   "outputs": [],
   "source": [
    "model = Sequential([\n",
    "    Conv2D(filters = 128, kernel_size = (3,3), input_shape=input_shape_2d, activation = 'relu'),\n",
    "    keras.layers.Flatten(),\n",
    "\n",
    "])"
   ]
  },
  {
   "cell_type": "code",
   "execution_count": 34,
   "metadata": {},
   "outputs": [],
   "source": [
    "#model.compile(optimizer='adam', loss= 'categorical_crossentropy', metrics= ['accuracy' ])\n",
    "#model.fit(x = hiragana_downsample, batch_size=100, epochs = 10, validation_split= 0.1)\n"
   ]
  },
  {
   "cell_type": "code",
   "execution_count": 35,
   "metadata": {},
   "outputs": [],
   "source": [
    "#conf, trained = do_neural_net(kanji_downsample_flat, kanji_onehot, model, basic_kanji, loss_fn = 'categorical_crossentropy', epochs = 10)\n",
    "\n",
    "#model = do_neural_net(kanji_downsample, kanji_onehot, model, basic_kanji, loss_fn = 'categorical_crossentropy', epochs = 10)\n",
    "\n",
    "#model = do_neural_net(combined_downsample, combined_onehot, model, combined, loss_fn = 'categorical_crossentropy', epochs = 10)\n"
   ]
  },
  {
   "cell_type": "code",
   "execution_count": 36,
   "metadata": {},
   "outputs": [
    {
     "ename": "NameError",
     "evalue": "name 'kanji_best_model' is not defined",
     "output_type": "error",
     "traceback": [
      "\u001b[1;31m---------------------------------------------------------------------------\u001b[0m",
      "\u001b[1;31mNameError\u001b[0m                                 Traceback (most recent call last)",
      "\u001b[1;32mc:\\Users\\Bharathrham\\OneDrive - Georgia Institute of Technology\\4th Sem - Spring 2022\\6740\\Project\\sep.ipynb Cell 51'\u001b[0m in \u001b[0;36m<module>\u001b[1;34m\u001b[0m\n\u001b[1;32m----> <a href='vscode-notebook-cell:/c%3A/Users/Bharathrham/OneDrive%20-%20Georgia%20Institute%20of%20Technology/4th%20Sem%20-%20Spring%202022/6740/Project/sep.ipynb#ch0000050?line=0'>1</a>\u001b[0m kanji_best_model\u001b[39m.\u001b[39mlayers\n",
      "\u001b[1;31mNameError\u001b[0m: name 'kanji_best_model' is not defined"
     ]
    }
   ],
   "source": [
    "kanji_best_model.layers"
   ]
  },
  {
   "cell_type": "code",
   "execution_count": null,
   "metadata": {},
   "outputs": [
    {
     "data": {
      "image/png": "[encoded data removed]",
      "text/plain": [
       "<Figure size 432x288 with 1 Axes>"
      ]
     },
     "metadata": {
      "needs_background": "light"
     },
     "output_type": "display_data"
    },
    {
     "name": "stdout",
     "output_type": "stream",
     "text": [
      "[392  93 304 ... 646 597 423]\n"
     ]
    },
    {
     "data": {
      "image/png": "[encoded data removed]",
      "text/plain": [
       "<Figure size 432x288 with 1 Axes>"
      ]
     },
     "metadata": {
      "needs_background": "light"
     },
     "output_type": "display_data"
    },
    {
     "data": {
      "image/png": "[encoded data removed]",
      "text/plain": [
       "<Figure size 432x288 with 1 Axes>"
      ]
     },
     "metadata": {
      "needs_background": "light"
     },
     "output_type": "display_data"
    },
    {
     "data": {
      "image/png": "[encoded data removed]",
      "text/plain": [
       "<Figure size 432x288 with 1 Axes>"
      ]
     },
     "metadata": {
      "needs_background": "light"
     },
     "output_type": "display_data"
    },
    {
     "data": {
      "image/png": "[encoded data removed]",
      "text/plain": [
       "<Figure size 432x288 with 1 Axes>"
      ]
     },
     "metadata": {
      "needs_background": "light"
     },
     "output_type": "display_data"
    },
    {
     "data": {
      "image/png": "[encoded data removed]",
      "text/plain": [
       "<Figure size 432x288 with 1 Axes>"
      ]
     },
     "metadata": {
      "needs_background": "light"
     },
     "output_type": "display_data"
    },
    {
     "data": {
      "image/png": "[encoded data removed]",
      "text/plain": [
       "<Figure size 432x288 with 1 Axes>"
      ]
     },
     "metadata": {
      "needs_background": "light"
     },
     "output_type": "display_data"
    }
   ],
   "source": [
    "weighs = np.array(kanji_best_model.layers[7].weights[0]).T\n",
    "weighs_1 = np.array(kanji_best_model.layers[7].weights[1]).T\n",
    "\n",
    "best_weights = np.argsort(-(weighs_1))\n",
    "\n",
    "plt.imshow(weighs_1[best_weights].reshape(16,-1))\n",
    "plt.show()\n",
    "print(best_weights)\n",
    "for i in best_weights[:6]: \n",
    "    plt.imshow(weighs[i].reshape(24,32))\n",
    "    plt.show()"
   ]
  }
 ],
 "metadata": {
  "interpreter": {
   "hash": "e77dd6a168e7398b047762a496d6bcc15044928ea0763f8d604c6ba266a6ceab"
  },
  "kernelspec": {
   "display_name": "Python 3.8.10 64-bit (windows store)",
   "language": "python",
   "name": "python3"
  },
  "language_info": {
   "codemirror_mode": {
    "name": "ipython",
    "version": 3
   },
   "file_extension": ".py",
   "mimetype": "text/x-python",
   "name": "python",
   "nbconvert_exporter": "python",
   "pygments_lexer": "ipython3",
   "version": "3.8.10"
  },
  "orig_nbformat": 4
 },
 "nbformat": 4,
 "nbformat_minor": 2
}
